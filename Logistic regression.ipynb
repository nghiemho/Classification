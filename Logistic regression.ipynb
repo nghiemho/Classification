{
 "cells": [
  {
   "cell_type": "markdown",
   "metadata": {},
   "source": [
    "# Implementing logistic regression from scratch\n",
    "\n",
    "The goal of this notebook is to implement your own logistic regression classifier. You will:\n",
    "\n",
    " * Extract features from Amazon product reviews.\n",
    " * Convert an pandas DataFrame into a NumPy array.\n",
    " * Implement the link function for logistic regression.\n",
    " * Write a function to compute the derivative of the log likelihood function with respect to a single coefficient.\n",
    " * Implement gradient ascent.\n",
    " * Given a set of coefficients, predict sentiments.\n",
    " * Compute classification accuracy for the logistic regression model.\n",
    " \n",
    "Let's get started!"
   ]
  },
  {
   "cell_type": "code",
   "execution_count": 1,
   "metadata": {},
   "outputs": [],
   "source": [
    "# Import some libs\n",
    "\n",
    "import pandas\n",
    "import numpy as np\n",
    "from sklearn.model_selection import train_test_split"
   ]
  },
  {
   "cell_type": "markdown",
   "metadata": {},
   "source": [
    "### Load review dataset\n",
    "For this assignment, we will use a subset of the Amazon product review dataset. The subset was chosen to contain similar numbers of positive and negative reviews, as the original dataset consisted primarily of positive reviews.\n",
    "\n",
    "Load the dataset into a data frame named **products**. One column of this dataset is **sentiment**, corresponding to the class label with +1 indicating a review with positive sentiment and -1 for negative sentiment.\n",
    "\n",
    "Let us quickly explore more of this dataset. The **name** column indicates the name of the product. Try listing the name of the first 10 products in the dataset.\n",
    "\n",
    "After that, try counting the number of positive and negative reviews."
   ]
  },
  {
   "cell_type": "code",
   "execution_count": 2,
   "metadata": {},
   "outputs": [],
   "source": [
    "# Import amazon_baby.csv data to pandas dataframe\n",
    "products_df = pandas.read_csv('datasets/amazon_baby_subset.csv')"
   ]
  },
  {
   "cell_type": "code",
   "execution_count": 3,
   "metadata": {},
   "outputs": [
    {
     "name": "stdout",
     "output_type": "stream",
     "text": [
      "                                                name  \\\n",
      "0  Stop Pacifier Sucking without tears with Thumb...   \n",
      "1    Nature's Lullabies Second Year Sticker Calendar   \n",
      "2    Nature's Lullabies Second Year Sticker Calendar   \n",
      "3                        Lamaze Peekaboo, I Love You   \n",
      "4  SoftPlay Peek-A-Boo Where's Elmo A Children's ...   \n",
      "5                          Our Baby Girl Memory Book   \n",
      "6  Hunnt&reg; Falling Flowers and Birds Kids Nurs...   \n",
      "7  Blessed By Pope Benedict XVI Divine Mercy Full...   \n",
      "8  Cloth Diaper Pins Stainless Steel Traditional ...   \n",
      "9  Cloth Diaper Pins Stainless Steel Traditional ...   \n",
      "\n",
      "                                              review  rating  sentiment  \n",
      "0  All of my kids have cried non-stop when I trie...       5          1  \n",
      "1  We wanted to get something to keep track of ou...       5          1  \n",
      "2  My daughter had her 1st baby over a year ago. ...       5          1  \n",
      "3  One of baby's first and favorite books, and it...       4          1  \n",
      "4  Very cute interactive book! My son loves this ...       5          1  \n",
      "5  Beautiful book, I love it to record cherished ...       5          1  \n",
      "6  Try this out for a spring project !Easy ,fun a...       5          1  \n",
      "7  very nice Divine Mercy Pendant of Jesus now on...       5          1  \n",
      "8  We bought the pins as my 6 year old Autistic s...       4          1  \n",
      "9  It has been many years since we needed diaper ...       5          1  \n",
      "            name  review  rating\n",
      "sentiment                       \n",
      "-1         26461   26393   26493\n",
      " 1         26521   26438   26579\n"
     ]
    }
   ],
   "source": [
    "print (products_df[0:10])\n",
    "print (products_df.groupby('sentiment').count())"
   ]
  },
  {
   "cell_type": "markdown",
   "metadata": {},
   "source": [
    "### Apply text cleaning on the review data\n",
    "In this section, we will perform some simple feature cleaning using data frames. The last assignment used all words in building bag-of-words features, but here we limit ourselves to 193 words (for simplicity). We compiled a list of 193 most frequent words into the JSON file named **important_words.json**. Load the words into a list **important_words**."
   ]
  },
  {
   "cell_type": "code",
   "execution_count": 4,
   "metadata": {},
   "outputs": [
    {
     "name": "stdout",
     "output_type": "stream",
     "text": [
      "['baby', 'one', 'great', 'love', 'use', 'would', 'like', 'easy', 'little', 'seat', 'old', 'well', 'get', 'also', 'really', 'son', 'time', 'bought', 'product', 'good', 'daughter', 'much', 'loves', 'stroller', 'put', 'months', 'car', 'still', 'back', 'used', 'recommend', 'first', 'even', 'perfect', 'nice', 'bag', 'two', 'using', 'got', 'fit', 'around', 'diaper', 'enough', 'month', 'price', 'go', 'could', 'soft', 'since', 'buy', 'room', 'works', 'made', 'child', 'keep', 'size', 'small', 'need', 'year', 'big', 'make', 'take', 'easily', 'think', 'crib', 'clean', 'way', 'quality', 'thing', 'better', 'without', 'set', 'new', 'every', 'cute', 'best', 'bottles', 'work', 'purchased', 'right', 'lot', 'side', 'happy', 'comfortable', 'toy', 'able', 'kids', 'bit', 'night', 'long', 'fits', 'see', 'us', 'another', 'play', 'day', 'money', 'monitor', 'tried', 'thought', 'never', 'item', 'hard', 'plastic', 'however', 'disappointed', 'reviews', 'something', 'going', 'pump', 'bottle', 'cup', 'waste', 'return', 'amazon', 'different', 'top', 'want', 'problem', 'know', 'water', 'try', 'received', 'sure', 'times', 'chair', 'find', 'hold', 'gate', 'open', 'bottom', 'away', 'actually', 'cheap', 'worked', 'getting', 'ordered', 'came', 'milk', 'bad', 'part', 'worth', 'found', 'cover', 'many', 'design', 'looking', 'weeks', 'say', 'wanted', 'look', 'place', 'purchase', 'looks', 'second', 'piece', 'box', 'pretty', 'trying', 'difficult', 'together', 'though', 'give', 'started', 'anything', 'last', 'company', 'come', 'returned', 'maybe', 'took', 'broke', 'makes', 'stay', 'instead', 'idea', 'head', 'said', 'less', 'went', 'working', 'high', 'unit', 'seems', 'picture', 'completely', 'wish', 'buying', 'babies', 'won', 'tub', 'almost', 'either']\n"
     ]
    }
   ],
   "source": [
    "import json\n",
    "\n",
    "with open('datasets/important_words.json', 'r') as f:\n",
    "    important_words = json.loads(f.read())\n",
    "print (important_words)"
   ]
  },
  {
   "cell_type": "markdown",
   "metadata": {},
   "source": [
    "Here we remove **remove_punctuation** and fill in N/A's with empty reivew"
   ]
  },
  {
   "cell_type": "code",
   "execution_count": 5,
   "metadata": {},
   "outputs": [],
   "source": [
    "def remove_punctuation(text):\n",
    "    import string\n",
    "    return text.translate(text.maketrans('', '', string.punctuation))\n",
    "\n",
    "products_df = products_df.fillna({'review':''})  # fill in N/A's in the review column\n",
    "products_df['review_clean'] = products_df['review'].apply(remove_punctuation)"
   ]
  },
  {
   "cell_type": "markdown",
   "metadata": {},
   "source": [
    "Now we proceed with the second item. For each word in **important_words**, we compute a count for the number of times the word occurs in the review. We will store this count in a separate column (one for each word). The result of this feature processing is a single column for each word in **important_words** which keeps a count of the number of times the respective word occurs in the review text."
   ]
  },
  {
   "cell_type": "code",
   "execution_count": 6,
   "metadata": {},
   "outputs": [],
   "source": [
    "for word in important_words:\n",
    "    products_df[word] = products_df['review_clean'].apply(lambda s : s.split().count(word))"
   ]
  },
  {
   "cell_type": "markdown",
   "metadata": {},
   "source": [
    "Now, write some code to compute the number of product reviews that contain the word perfect.\n",
    "<br>\n",
    "**Quiz Question:** How many reviews contain the word **\"perfect\"**?\n",
    "<br>\n",
    "**Your answer:** "
   ]
  },
  {
   "cell_type": "code",
   "execution_count": 7,
   "metadata": {},
   "outputs": [
    {
     "name": "stdout",
     "output_type": "stream",
     "text": [
      "Number of word 'perfect' in dataset: 2955\n"
     ]
    }
   ],
   "source": [
    "# YOUR CODE HERE\n",
    "print('Number of word \\'perfect\\' in dataset: %d'%products_df['perfect'].astype('bool').sum(axis=0))\n",
    "# YOUR CODE HERE"
   ]
  },
  {
   "cell_type": "markdown",
   "metadata": {},
   "source": [
    "### Convert data frame to multi-dimensional array\n",
    "Write a function that extracts columns from a data frame and converts them into a multi-dimensional array. We plan to use them throughout the course, so make sure to get this function right.\n",
    "<br>\n",
    "The function should accept three parameters:\n",
    "<br>\n",
    "- **dataframe:** a data frame to be converted\n",
    "- **features:** a list of string, containing the names of the columns that are used as features.\n",
    "- **label:** a string, containing the name of the single column that is used as class labels.\n",
    "<br>\n",
    "<br>\n",
    "The function should return two values:\n",
    "<br>\n",
    "- one 2D array for features\n",
    "- one 1D array for class labels\n",
    "<br>\n",
    "<br>\n",
    "The function should do the following:\n",
    "<br>\n",
    "- Prepend a new column constant to dataframe and fill it with 1's. This column takes account of the intercept term. Make sure that the constant column appears first in the data frame.\n",
    "- Prepend a string 'constant' to the list features. Make sure the string 'constant' appears first in the list.\n",
    "- Extract columns in dataframe whose names appear in the list features.\n",
    "- Convert the extracted columns into a 2D array using a function in the data frame library. If you are using Pandas, you would use as_matrix() function.\n",
    "- Extract the single column in dataframe whose name corresponds to the string label.\n",
    "- Convert the column into a 1D array.\n",
    "- Return the 2D array and the 1D array."
   ]
  },
  {
   "cell_type": "code",
   "execution_count": 8,
   "metadata": {},
   "outputs": [],
   "source": [
    "def get_numpy_data(dataframe, features, label):\n",
    "    dataframe['constant'] = 1\n",
    "    features = ['constant'] + features\n",
    "    features_frame = dataframe[features]\n",
    "    feature_matrix = features_frame.values\n",
    "    label_sarray = dataframe[label]\n",
    "    label_array = label_sarray.values\n",
    "    return (feature_matrix, label_array)"
   ]
  },
  {
   "cell_type": "markdown",
   "metadata": {},
   "source": [
    "Using the function **get_numpy_data**, extract two arrays **feature_matrix** and **sentiment**. The 2D array **feature_matrix** would contain the content of the columns given by the list **important_words**. The 1D array sentiment would contain the content of the column **sentiment**."
   ]
  },
  {
   "cell_type": "code",
   "execution_count": 9,
   "metadata": {},
   "outputs": [],
   "source": [
    "feature_matrix, sentiment = get_numpy_data(products_df, important_words, 'sentiment')"
   ]
  },
  {
   "cell_type": "markdown",
   "metadata": {},
   "source": [
    "**Quiz Question:** How many features are there in the feature_matrix?\n",
    "<br>\n",
    "**Your answer:**"
   ]
  },
  {
   "cell_type": "code",
   "execution_count": 10,
   "metadata": {},
   "outputs": [
    {
     "data": {
      "text/plain": [
       "(53072, 194)"
      ]
     },
     "execution_count": 10,
     "metadata": {},
     "output_type": "execute_result"
    }
   ],
   "source": [
    "# YOUR CODE HERE\n",
    "feature_matrix.shape\n",
    "# YOUR CODE HERE"
   ]
  },
  {
   "cell_type": "markdown",
   "metadata": {},
   "source": [
    "Recall from lecture that the link function is given by\n",
    "<br>\n",
    "$P(y_i = +1 | \\mathbf{x}_i, \\mathbf{w}) = \\dfrac{1}{1 + \\exp{(-\\mathbf{w}^\\intercal h(\\mathbf{x}_i))}}$\n",
    "<br>\n",
    "where the feature vector $h(\\mathbf{x}_i)$ represents the word counts of **important_words** in the review $\\mathbf{x}_i$\n",
    "<br>\n",
    "Write a function named **predict_probability** that implements the link function.\n",
    "<br>\n",
    "- Take two parameters: **feature_matrix** and **coefficients**.\n",
    "- First compute the dot product of **feature_matrix** and **coefficients**.\n",
    "- Then compute the link function $P(y = +1 | \\mathbf{x}, \\mathbf{w})$\n",
    "- Return the predictions given by the link function."
   ]
  },
  {
   "cell_type": "code",
   "execution_count": 42,
   "metadata": {},
   "outputs": [],
   "source": [
    "'''\n",
    "produces probablistic estimate for P(y_i = +1 | x_i, w).\n",
    "estimate ranges between 0 and 1.\n",
    "'''\n",
    "def predict_probability(feature_matrix, coefficients):\n",
    "    # Take dot product of feature_matrix and coefficients  \n",
    "    # YOUR CODE HERE\n",
    "    scores = np.dot(feature_matrix,coefficients)\n",
    "    \n",
    "    # Compute P(y_i = +1 | x_i, w) using the link function\n",
    "\n",
    "    # YOUR CODE HERE\n",
    "    predictions = 1/(1+np.exp(-scores))\n",
    "    # return predictions\n",
    "    return scores, predictions"
   ]
  },
  {
   "cell_type": "markdown",
   "metadata": {},
   "source": [
    "**Aside**. How the link function works with matrix algebra\n",
    "\n",
    "Since the word counts are stored as columns in **feature_matrix**, each i-th row of the matrix corresponds to the feature vector $h(\\mathbf{x}_i)$:\n",
    "$$[\\mbox{feature_matrix}] = \\left[\\begin{array}{c} h(\\mathbf{x}_1)^\\intercal \\\\ h(\\mathbf{x}_2)^\\intercal \\\\ \\vdots \\\\ h(\\mathbf{x}_N)^\\intercal\\end{array}\\right] = \\left[\\begin{array}{cccc}h_0(\\mathbf{x}_1) & h_1(\\mathbf{x}_1) & \\cdots & h_D(\\mathbf{x}_1) \\\\ h_0(\\mathbf{x}_2) & h_1(\\mathbf{x}_2) & \\cdots & h_D(\\mathbf{x}_2) \\\\ \\vdots & \\vdots & \\ddots & \\vdots \\\\ h_0(\\mathbf{x}_N) & h_1(\\mathbf{x}_N) & \\cdots & h_D(\\mathbf{x}_N) \\end{array}\\right]$$\n",
    "By the rules of matrix multiplication, the score vector containing elements $\\mathbf{w}^\\intercal h(\\mathbf{x}_i)$ is obtained by multiplying **feature_matrix** and the coefficient vector $\\mathbf{w}$:\n",
    "$$[\\mbox{score}] = [\\mbox{feature_matrix}]\\mathbf{w} = \\left[\\begin{array}{c} h(\\mathbf{x}_1)^\\intercal \\\\ h(\\mathbf{x}_2)^\\intercal \\\\ \\vdots \\\\ h(\\mathbf{x}_N)^\\intercal\\end{array}\\right] \\mathbf{w} = \\left[\\begin{array}{c} h(\\mathbf{x}_1)^\\intercal \\mathbf{w} \\\\ h(\\mathbf{x}_2)^\\intercal \\mathbf{w} \\\\ \\vdots \\\\ h(\\mathbf{x}_N)^\\intercal \\mathbf{w}\\end{array}\\right] = \\left[\\begin{array}{c} \\mathbf{w}^\\intercal h(\\mathbf{x}_1) \\\\ \\mathbf{w}^\\intercal h(\\mathbf{x}_2) \\\\ \\vdots \\\\ \\mathbf{w}^\\intercal h(\\mathbf{x}_N) \\end{array}\\right]$$"
   ]
  },
  {
   "cell_type": "markdown",
   "metadata": {},
   "source": [
    "### Compute derivative of log likelihood with respect to a single coefficient\n",
    "Recall from lecture:\n",
    "$$\\displaystyle \\frac{\\partial \\ell}{\\partial w_j} = \\sum_{i=1}^N h_j(\\mathbf{x}_i) (\\mathbf{1}[y_i = +1] - P(y_i = +1 | \\mathbf{x}_i, \\mathbf{w}))$$\n",
    "- **errors:** vector whose i-th value contains\n",
    "$$\\mathbf{1}[y_i = +1] - P(y_i = +1 | \\mathbf{x}_i, \\mathbf{w})$$\n",
    "- **feature:** vector whose i-th value contains\n",
    "$h_j(\\mathbf{x}_i)$\n",
    "<br>\n",
    "This corresponds to the j-th column of feature_matrix.\n",
    "<br>\n",
    "The function should do the following:\n",
    "<br>\n",
    "- Take two parameters **errors** and **feature**.\n",
    "- Compute the dot product of **errors** and **feature**.\n",
    "- Return the dot product. This is the derivative with respect to a single coefficient w_j."
   ]
  },
  {
   "cell_type": "code",
   "execution_count": 12,
   "metadata": {},
   "outputs": [],
   "source": [
    "def feature_derivative(errors, feature):     \n",
    "    # YOUR CODE HERE\n",
    "    # Compute the dot product of errors and feature\n",
    "    derivative=np.dot(errors,feature)\n",
    "    # Return the derivative\n",
    "    # YOUR CODE HERE\n",
    "    return derivative"
   ]
  },
  {
   "cell_type": "markdown",
   "metadata": {},
   "source": [
    "In the main lecture, our focus was on the likelihood. In the advanced optional video, however, we introduced a transformation of this likelihood---called the log-likelihood---that simplifies the derivation of the gradient and is more numerically stable. Due to its numerical stability, we will use the log-likelihood instead of the likelihood to assess the algorithm.\n",
    "\n",
    "The log-likelihood is computed using the following formula (see the advanced optional video if you are curious about the derivation of this equation):\n",
    "$$\\displaystyle \\ell \\ell (\\mathbf{w}) = \\sum_{i=1}^N \\Big( (\\mathbf{1}[y_i = +1] - 1) \\mathbf{w}^\\intercal h(\\mathbf{x}_i) - \\ln{\\big(1 + \\exp{(-\\mathbf{w}^\\intercal h(\\mathbf{x}_i) )} \\big)} \\Big)$$\n",
    "<br>\n",
    "Write a function **compute_log_likelihood** that implements the equation\n",
    "<br>\n",
    "The function has two parameters:\n",
    "<br>\n",
    "**indicator**: Has shape (N, 1). **indicator[i]** = True if **yi** = +1 otherwise **indicator[i]** = False\n",
    "<br>\n",
    "**scores**: The scores return by the **predict_probability** function. Refer to the above section for more details about the **scores** parameter."
   ]
  },
  {
   "cell_type": "code",
   "execution_count": 13,
   "metadata": {},
   "outputs": [],
   "source": [
    "def compute_log_likelihood(indicator, scores):\n",
    "    lp = np.sum((indicator-1)*scores - np.log(1. + np.exp(-scores)))\n",
    "    return lp"
   ]
  },
  {
   "cell_type": "markdown",
   "metadata": {},
   "source": [
    "### Taking gradient steps\n",
    "Now we are ready to implement our own logistic regression. All we have to do is to write a gradient ascent function that takes gradient steps towards the optimum.\n",
    "<br>\n",
    "Write a function **logistic_regression** to fit a logistic regression model using gradient ascent.\n",
    "<br>\n",
    "The function accepts the following parameters:\n",
    "<br>\n",
    "- **feature_matrix:** 2D array of features\n",
    "- **sentiment:** 1D array of class labels\n",
    "- **initial_coefficients:** 1D array containing initial values of coefficients\n",
    "- **step_size:** a parameter controlling the size of the gradient steps\n",
    "- **max_iter:** number of iterations to run gradient ascent\n",
    "<br>\n",
    "The function returns the last set of coefficients after performing gradient ascent.\n",
    "<br>\n",
    "The function carries out the following steps:\n",
    "<br>\n",
    "1. Initialize vector **coefficients** to **initial_coefficients**.\n",
    "2. Predict the class probability $P(y_i = +1 | \\mathbf{x}_i,\\mathbf{w})$ using your **predict_probability** function and save it to variable **predictions**.\n",
    "3. Compute indicator value for $(y_i = +1)$ by comparing **sentiment** against +1. Save it to variable **indicator**.\n",
    "4. Compute the errors as difference between **indicator** and **predictions**. Save the errors to variable **errors**.\n",
    "5. For each j-th coefficient, compute the per-coefficient derivative by calling **feature_derivative** with the j-th column of **feature_matrix**. Then increment the j-th coefficient by (step_size*derivative).\n",
    "6. Once in a while, insert code to print out the log likelihood.\n",
    "7. Repeat steps 2-6 for **max_iter** times."
   ]
  },
  {
   "cell_type": "code",
   "execution_count": 35,
   "metadata": {},
   "outputs": [
    {
     "data": {
      "text/plain": [
       "0.8"
      ]
     },
     "execution_count": 35,
     "metadata": {},
     "output_type": "execute_result"
    }
   ],
   "source": [
    "(sentiment==+1)[1]-0.2"
   ]
  },
  {
   "cell_type": "code",
   "execution_count": 61,
   "metadata": {},
   "outputs": [],
   "source": [
    "from math import sqrt\n",
    "def logistic_regression(feature_matrix, sentiment, initial_coefficients, step_size, max_iter):\n",
    "    coefficients = np.array(initial_coefficients) # make sure it's a numpy array\n",
    "    for itr in range(max_iter):\n",
    "        # Predict P(y_i = +1|x_1,w) using your predict_probability() function\n",
    "        # YOUR CODE HERE\n",
    "        scores, predictions = predict_probability(feature_matrix,coefficients)\n",
    "        # YOUR CODE HERE\n",
    "\n",
    "        # Compute indicator value for (y_i = +1)\n",
    "        indicator = (sentiment==+1)\n",
    "\n",
    "        # Compute the errors as indicator - predictions\n",
    "        errors = indicator - predictions\n",
    "\n",
    "        for j in range(coefficients.shape[0]): # loop over each coefficient\n",
    "            # Recall that feature_matrix[:,j] is the feature column associated with coefficients[j]\n",
    "            # compute the derivative for coefficients[j]. Save it in a variable called derivative\n",
    "            # YOUR CODE HERE\n",
    "            derivative = feature_derivative(errors,feature_matrix[:,j])\n",
    "            # YOUR CODE HERE\n",
    "\n",
    "            # add the step size times the derivative to the current coefficient\n",
    "            # YOUR CODE HERE\n",
    "            coefficients[j]+=step_size*derivative\n",
    "            # YOUR CODE HERE\n",
    "        if itr % 50 == 0:\n",
    "            lp = compute_log_likelihood(indicator, scores)\n",
    "            print ('iteration: {}, log likelihood: {}'.format(itr, lp))\n",
    "\n",
    "    return coefficients"
   ]
  },
  {
   "cell_type": "markdown",
   "metadata": {},
   "source": [
    "Now, let us run the logistic regression solver with the parameters below:\n",
    "<br>\n",
    "- **feature_matrix** = feature_matrix extracted\n",
    "- **sentiment** = sentiment extracted\n",
    "- **initial_coefficients** = a 194-dimensional vector filled with zeros\n",
    "- **step_size** = 1e-7\n",
    "- **max_ite**r = 301\n",
    "<br>\n",
    "Save the returned **coefficients** to variable **coefficients**."
   ]
  },
  {
   "cell_type": "code",
   "execution_count": 62,
   "metadata": {},
   "outputs": [],
   "source": [
    "initial_coefficients = np.zeros((feature_matrix.shape[1],))\n",
    "step_size = 1e-7\n",
    "max_iter = 301"
   ]
  },
  {
   "cell_type": "code",
   "execution_count": 104,
   "metadata": {},
   "outputs": [
    {
     "name": "stdout",
     "output_type": "stream",
     "text": [
      "iteration: 0, log likelihood: -36786.70716667741\n",
      "iteration: 50, log likelihood: -36504.43511854091\n",
      "iteration: 100, log likelihood: -36235.70757728472\n",
      "iteration: 150, log likelihood: -35979.14336288011\n",
      "iteration: 200, log likelihood: -35733.69577367936\n",
      "iteration: 250, log likelihood: -35498.52607983075\n",
      "iteration: 300, log likelihood: -35272.93069887046\n"
     ]
    }
   ],
   "source": [
    "coefficients = logistic_regression(feature_matrix, sentiment, initial_coefficients, step_size, max_iter)"
   ]
  },
  {
   "cell_type": "code",
   "execution_count": 70,
   "metadata": {},
   "outputs": [
    {
     "data": {
      "text/plain": [
       "(0.027004989844518944, 0.5067508372011569)"
      ]
     },
     "execution_count": 70,
     "metadata": {},
     "output_type": "execute_result"
    }
   ],
   "source": [
    "predict_probability(feature_matrix[400],coefficients)"
   ]
  },
  {
   "cell_type": "markdown",
   "metadata": {},
   "source": [
    "**Quiz question:** As each iteration of gradient ascent passes, does the log likelihood increase or decrease?\n",
    "<br>\n",
    "**Your answer:**"
   ]
  },
  {
   "cell_type": "markdown",
   "metadata": {},
   "source": [
    "### Predicting sentiments\n",
    "Recall from lecture that class predictions for a data point x can be computed from the coefficients w using the following formula:\n",
    "<br>\n",
    "$$\\hat{y}_i = \\begin{cases} +1 & \\text{if }\\mathbf{x}_i^\\intercal \\mathbf{w} > 0 \\\\ -1 & \\text{if }\\mathbf{x}_i^\\intercal \\mathbf{w} \\leq 0\\end{cases}$$\n",
    "Now, we write some code to compute class predictions. We do this in two steps:\n",
    "- First compute the scores using feature_matrix and coefficients using a dot product.\n",
    "- Then apply threshold 0 on the scores to compute the class predictions. Refer to the formula above.\n",
    "<br>"
   ]
  },
  {
   "cell_type": "markdown",
   "metadata": {},
   "source": [
    "**Quiz question:** How many reviews were predicted to have positive sentiment?\n",
    "<br>\n",
    "**Your answer:**"
   ]
  },
  {
   "cell_type": "code",
   "execution_count": 86,
   "metadata": {},
   "outputs": [],
   "source": [
    "scores = feature_matrix.dot(coefficients)"
   ]
  },
  {
   "cell_type": "code",
   "execution_count": 87,
   "metadata": {},
   "outputs": [
    {
     "name": "stdout",
     "output_type": "stream",
     "text": [
      "number of positive reviews: 25126\n"
     ]
    }
   ],
   "source": [
    "# YOUR CODE HERE\n",
    "print('number of positive reviews: %d'%np.sum(scores>0))\n",
    "# YOUR CODE HERE"
   ]
  },
  {
   "cell_type": "markdown",
   "metadata": {},
   "source": [
    "### Measuring accuracy\n",
    "We will now measure the classification accuracy of the model. Recall from the lecture that the classification accuracy can be computed as follows:\n",
    "$$\\mbox{accuracy} = \\dfrac{\\mbox{# correctly classified data points}}{\\mbox{# total data points}}$$\n",
    "**Quiz question:** hat is the accuracy of the model on predictions made above? (round to 2 digits of accuracy)\n",
    "<br>\n",
    "**Your answer:**"
   ]
  },
  {
   "cell_type": "code",
   "execution_count": 92,
   "metadata": {},
   "outputs": [
    {
     "name": "stdout",
     "output_type": "stream",
     "text": [
      "Accuracy: 0.7518653904130238\n"
     ]
    }
   ],
   "source": [
    "diff = (scores > 0) == (sentiment > 0)\n",
    "print ('Accuracy: {}'.format(np.sum(diff) / len(diff)))"
   ]
  },
  {
   "cell_type": "markdown",
   "metadata": {},
   "source": [
    "Recall that in the earlier assignment, we were able to compute the \"**most positive words**\". These are words that correspond most strongly with positive reviews. In order to do this, we will first do the following:\n",
    "- Treat each coefficient as a tuple, i.e. (**word, coefficient_value**). The intercept has no corresponding word, so throw it out.\n",
    "- Sort all the (**word, coefficient_value**) tuples by **coefficient_value** in descending order. Save the sorted list of tuples to **word_coefficient_tuples**."
   ]
  },
  {
   "cell_type": "markdown",
   "metadata": {},
   "source": [
    "Now, **word_coefficient_tuples** contains a sorted list of (**word, coefficient_value**) tuples. The first 10 elements in this list correspond to the words that are most positive.\n",
    "<br>\n",
    "**Quiz question:** What is the top 10 positive words?\n",
    "<br>\n",
    "**Your answer:**\n",
    "<br>\n",
    "**Quiz question:** What is the top 10 negative words?\n",
    "<br>\n",
    "**Your answer:**"
   ]
  },
  {
   "cell_type": "code",
   "execution_count": 105,
   "metadata": {},
   "outputs": [],
   "source": [
    "coefficients = list(coefficients[1:]) # exclude intercept\n",
    "word_coefficient_tuples = [(word, coefficient) for word, coefficient in zip(important_words, coefficients)]\n",
    "word_coefficient_tuples = sorted(word_coefficient_tuples, key=lambda x:x[1], reverse=True)\n",
    "\n",
    "# YOUR CODE\n",
    "\n",
    "# YOUR CODE"
   ]
  },
  {
   "cell_type": "code",
   "execution_count": 106,
   "metadata": {},
   "outputs": [
    {
     "data": {
      "text/plain": [
       "[('great', 0.0665460841704577),\n",
       " ('love', 0.06589076292212326),\n",
       " ('easy', 0.06479458680257838),\n",
       " ('little', 0.04543562630842137),\n",
       " ('loves', 0.04497640139490604),\n",
       " ('well', 0.030135001092107067),\n",
       " ('perfect', 0.02973993710496846),\n",
       " ('old', 0.020077541034775378),\n",
       " ('nice', 0.018408707995268996),\n",
       " ('daughter', 0.01770319990570169),\n",
       " ('soft', 0.01757027224560289),\n",
       " ('fits', 0.01688247107140872),\n",
       " ('happy', 0.016805295889768077),\n",
       " ('baby', 0.015565696580423507),\n",
       " ('recommend', 0.015408450108008665),\n",
       " ('also', 0.015216196422918842),\n",
       " ('best', 0.014991791565630266),\n",
       " ('comfortable', 0.0132539900815849),\n",
       " ('car', 0.012685935745813379),\n",
       " ('clean', 0.012018174433365525),\n",
       " ('son', 0.011944817713693953),\n",
       " ('bit', 0.011708248093123262),\n",
       " ('works', 0.011703160621987424),\n",
       " ('size', 0.010715966516270298),\n",
       " ('stroller', 0.009909164635972734),\n",
       " ('room', 0.009783241021568061),\n",
       " ('price', 0.00957273354359018),\n",
       " ('play', 0.00917842898398431),\n",
       " ('easily', 0.009032818138954405),\n",
       " ('kids', 0.008582843004346528),\n",
       " ('still', 0.00826466694537446),\n",
       " ('lot', 0.007999389349248329),\n",
       " ('around', 0.0075089180973143405),\n",
       " ('need', 0.007171907270027092),\n",
       " ('take', 0.0067101233146641725),\n",
       " ('keep', 0.006437668081870188),\n",
       " ('crib', 0.006002799788638706),\n",
       " ('without', 0.005923536113220274),\n",
       " ('year', 0.00573320002848789),\n",
       " ('set', 0.005674789908056569),\n",
       " ('cute', 0.005537512364059031),\n",
       " ('use', 0.0050174388165654124),\n",
       " ('big', 0.004606618761970606),\n",
       " ('diaper', 0.004279382890354768),\n",
       " ('wish', 0.00402037650809975),\n",
       " ('seat', 0.003983533639413615),\n",
       " ('though', 0.0033448995950862924),\n",
       " ('every', 0.003081478639854043),\n",
       " ('enough', 0.003067855012990109),\n",
       " ('able', 0.002980306750661262),\n",
       " ('bag', 0.0028617875161052074),\n",
       " ('babies', 0.00285818985134274),\n",
       " ('seems', 0.002815332188646533),\n",
       " ('night', 0.002808259066683148),\n",
       " ('good', 0.0027682039063976803),\n",
       " ('many', 0.0026466106385121305),\n",
       " ('makes', 0.0023134923740490212),\n",
       " ('pretty', 0.0022363904560238454),\n",
       " ('long', 0.002187240162161943),\n",
       " ('think', 0.0017456314732199937),\n",
       " ('toy', 0.0017230705102314371),\n",
       " ('since', 0.0015547861236921187),\n",
       " ('looking', 0.0015347116392846498),\n",
       " ('us', 0.0015136828514065374),\n",
       " ('purchase', 0.0012225783235106365),\n",
       " ('put', 0.0008992390814154654),\n",
       " ('cover', 0.0008292511599959553),\n",
       " ('used', 0.0006101288089752653),\n",
       " ('found', 0.00041209171300655626),\n",
       " ('really', 0.00027259206246775834),\n",
       " ('won', 0.00011988500346780872),\n",
       " ('go', 9.916668274814279e-05),\n",
       " ('looks', 1.3669928550230813e-05),\n",
       " ('high', -0.00018648923566776302),\n",
       " ('day', -0.0001885722805001116),\n",
       " ('bottles', -0.00033566600034981716),\n",
       " ('chair', -0.0005159604846262287),\n",
       " ('using', -0.0006573503620923433),\n",
       " ('side', -0.0008613904437686892),\n",
       " ('worth', -0.0009762196756223379),\n",
       " ('almost', -0.0011449351626316182),\n",
       " ('hold', -0.0012476158571719633),\n",
       " ('months', -0.001362195157348742),\n",
       " ('look', -0.0016457514473845493),\n",
       " ('sure', -0.0016689531424132925),\n",
       " ('find', -0.0019419955109540173),\n",
       " ('amazon', -0.001973209371896164),\n",
       " ('month', -0.0022031766056230698),\n",
       " ('getting', -0.0022203440239695676),\n",
       " ('come', -0.002478056986088658),\n",
       " ('second', -0.003018666010667183),\n",
       " ('head', -0.0030257887493928),\n",
       " ('small', -0.003053454759330871),\n",
       " ('place', -0.0033188773175082007),\n",
       " ('together', -0.003413309289188652),\n",
       " ('want', -0.0034808852314084323),\n",
       " ('like', -0.003504884133335208),\n",
       " ('give', -0.0035098451575682485),\n",
       " ('say', -0.00373694385874852),\n",
       " ('wanted', -0.0038141640936843113),\n",
       " ('know', -0.004074970100351705),\n",
       " ('took', -0.004266443864014708),\n",
       " ('much', -0.004397000674509431),\n",
       " ('see', -0.004659737406888564),\n",
       " ('purchased', -0.004789909428673403),\n",
       " ('fit', -0.00479579527809302),\n",
       " ('gate', -0.005012917306197128),\n",
       " ('bottle', -0.005040821636249149),\n",
       " ('different', -0.005041275079058815),\n",
       " ('came', -0.005101156084295061),\n",
       " ('however', -0.005102879784877109),\n",
       " ('make', -0.005205884210607157),\n",
       " ('new', -0.005287862195972152),\n",
       " ('buying', -0.005443003464382597),\n",
       " ('last', -0.005470161541392435),\n",
       " ('actually', -0.005605733475251415),\n",
       " ('less', -0.005654987222257695),\n",
       " ('child', -0.006087140302347556),\n",
       " ('started', -0.006262831503162306),\n",
       " ('instead', -0.006300126718179461),\n",
       " ('water', -0.006300542962225543),\n",
       " ('maybe', -0.006400989344627022),\n",
       " ('problem', -0.006409589155003782),\n",
       " ('right', -0.0064136885850504775),\n",
       " ('tub', -0.006475876873018088),\n",
       " ('said', -0.006762897175112025),\n",
       " ('went', -0.006870502394402383),\n",
       " ('quality', -0.006910108112146036),\n",
       " ('pump', -0.00695286914906194),\n",
       " ('top', -0.0070079191164656805),\n",
       " ('part', -0.007041719908427805),\n",
       " ('ordered', -0.007075730981647346),\n",
       " ('either', -0.007092059344135139),\n",
       " ('bottom', -0.007220988012088565),\n",
       " ('anything', -0.007224199425910095),\n",
       " ('made', -0.007353459369094525),\n",
       " ('weeks', -0.0073726305977644116),\n",
       " ('design', -0.007732287817370993),\n",
       " ('times', -0.007764187808314246),\n",
       " ('picture', -0.008101502952676016),\n",
       " ('away', -0.008317829807696091),\n",
       " ('one', -0.008502046745757361),\n",
       " ('milk', -0.008935728615993479),\n",
       " ('stay', -0.00906653337359022),\n",
       " ('open', -0.009120491910748273),\n",
       " ('cup', -0.009259144043189976),\n",
       " ('worked', -0.009315208191956718),\n",
       " ('trying', -0.009874247980135876),\n",
       " ('completely', -0.010006213059178752),\n",
       " ('got', -0.010147655511657534),\n",
       " ('difficult', -0.010219204790778673),\n",
       " ('piece', -0.010282634317735408),\n",
       " ('two', -0.010576801537792875),\n",
       " ('box', -0.010669132724912933),\n",
       " ('going', -0.010770935491004763),\n",
       " ('try', -0.010918793208793),\n",
       " ('another', -0.01095091216964983),\n",
       " ('unit', -0.0115230475554972),\n",
       " ('working', -0.011895059489782872),\n",
       " ('idea', -0.012101030310887904),\n",
       " ('bought', -0.012170641997242545),\n",
       " ('company', -0.012506394670958822),\n",
       " ('received', -0.01260518995366231),\n",
       " ('bad', -0.012754571329579798),\n",
       " ('something', -0.01280883802475081),\n",
       " ('never', -0.012969046546319292),\n",
       " ('first', -0.013213475301677047),\n",
       " ('hard', -0.0137566767312614),\n",
       " ('thing', -0.013868727265297583),\n",
       " ('cheap', -0.014709833465080669),\n",
       " ('reviews', -0.014866319449976984),\n",
       " ('plastic', -0.014977044903587942),\n",
       " ('better', -0.015040658977043393),\n",
       " ('broke', -0.015537698955653888),\n",
       " ('returned', -0.016001798500102516),\n",
       " ('item', -0.01713786701085479),\n",
       " ('buy', -0.01773754399721805),\n",
       " ('time', -0.018246193486087036),\n",
       " ('way', -0.01835946066294569),\n",
       " ('tried', -0.018702371424325837),\n",
       " ('could', -0.01984625666077721),\n",
       " ('thought', -0.02139434854368248),\n",
       " ('waste', -0.024042748071154956),\n",
       " ('monitor', -0.02448210054589172),\n",
       " ('return', -0.026592778462247283),\n",
       " ('back', -0.027742697230661334),\n",
       " ('get', -0.028711552980192585),\n",
       " ('disappointed', -0.028978976142317068),\n",
       " ('even', -0.030051249236035804),\n",
       " ('work', -0.03306951529475273),\n",
       " ('money', -0.03898203728648711),\n",
       " ('product', -0.04151103339210889),\n",
       " ('would', -0.05386014844520313)]"
      ]
     },
     "execution_count": 106,
     "metadata": {},
     "output_type": "execute_result"
    }
   ],
   "source": [
    "word_coefficient_tuples"
   ]
  },
  {
   "cell_type": "code",
   "execution_count": null,
   "metadata": {},
   "outputs": [],
   "source": []
  }
 ],
 "metadata": {
  "kernelspec": {
   "display_name": "Python 3",
   "language": "python",
   "name": "python3"
  },
  "language_info": {
   "codemirror_mode": {
    "name": "ipython",
    "version": 3
   },
   "file_extension": ".py",
   "mimetype": "text/x-python",
   "name": "python",
   "nbconvert_exporter": "python",
   "pygments_lexer": "ipython3",
   "version": "3.7.7"
  }
 },
 "nbformat": 4,
 "nbformat_minor": 2
}
